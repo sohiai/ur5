{
 "cells": [
  {
   "cell_type": "markdown",
   "metadata": {},
   "source": [
    "# Robot Kinematics"
   ]
  },
  {
   "cell_type": "markdown",
   "metadata": {},
   "source": [
    "## Initialize Robot Model\n",
    "- A robot model, at a very minimum, is a kinematic chain\n",
    "- The kinematic chain is defined by a series of parameters\n",
    "    - See [Modified DH parameters](https://en.wikipedia.org/wiki/Denavit%E2%80%93Hartenberg_parameters#Modified_DH_parameters) for more info"
   ]
  },
  {
   "cell_type": "code",
   "execution_count": 8,
   "metadata": {},
   "outputs": [],
   "source": [
    "from pybotics.robot import Robot\n",
    "#from pybotics.predefined_models import ur10\n",
    "#from ur5_model import ur10_site as ur10\n",
    "from ur5_model import ur10_copy as ur10\n",
    "\n",
    "robot = Robot.from_parameters(ur10())"
   ]
  },
  {
   "cell_type": "markdown",
   "metadata": {},
   "source": [
    "## Forward Kinematics\n",
    "- The forward kinematics (FK) refer to the use of the kinematic equations of a robot to compute the pose of the end-effector (i.e., 4x4 transform matrix) from specified values for the joint parameters (i.e., joint angles)\n",
    "- ELI5: Where am I with the given joint angles?"
   ]
  },
  {
   "cell_type": "code",
   "execution_count": 11,
   "metadata": {
    "scrolled": true
   },
   "outputs": [
    {
     "data": {
      "text/plain": [
       "array([0.08726646, 0.08726646, 0.08726646, 0.08726646, 0.08726646,\n",
       "       0.08726646])"
      ]
     },
     "metadata": {},
     "output_type": "display_data"
    },
    {
     "data": {
      "text/plain": [
       "array([[    0.94003631,    -0.34106157,     0.00295846, -1124.43089247],\n",
       "       [   -0.00491322,    -0.02221388,    -0.99974117,  -355.10102738],\n",
       "       [    0.34103901,     0.93977846,    -0.02255757,  -148.49504763],\n",
       "       [    0.        ,     0.        ,     0.        ,     1.        ]])"
      ]
     },
     "metadata": {},
     "output_type": "display_data"
    }
   ],
   "source": [
    "import numpy as np\n",
    "np.set_printoptions(suppress=True)\n",
    "\n",
    "joints = np.deg2rad([5,5,5,5,5,5])\n",
    "display(joints)\n",
    "\n",
    "pose = robot.fk(joints)\n",
    "display(pose)"
   ]
  },
  {
   "cell_type": "markdown",
   "metadata": {},
   "source": [
    "## Inverse Kinematics\n",
    "- The inverse kinematics (IK) makes use of the kinematics equations to determine the joint parameters that provide a desired position for the robot's end-effector\n",
    "- The default internal IK implementation uses scipy.optimize.least_squares with joint limit bounds\n",
    "- ELI5: What joint angles do I need to have this position?"
   ]
  },
  {
   "cell_type": "code",
   "execution_count": 7,
   "metadata": {
    "scrolled": true
   },
   "outputs": [
    {
     "data": {
      "text/plain": [
       "array([5.00000032, 4.97126331, 5.05937313, 4.95609846, 5.00005964,\n",
       "       5.01321467])"
      ]
     },
     "metadata": {},
     "output_type": "display_data"
    }
   ],
   "source": [
    "solved_joints = robot.ik(pose)\n",
    "display(np.rad2deg(solved_joints))"
   ]
  },
  {
   "cell_type": "code",
   "execution_count": null,
   "metadata": {},
   "outputs": [],
   "source": []
  },
  {
   "cell_type": "markdown",
   "metadata": {},
   "source": [
    "## The second method"
   ]
  },
  {
   "cell_type": "code",
   "execution_count": 12,
   "metadata": {},
   "outputs": [],
   "source": [
    "## UR5 Inverse Kinematics - \n",
    "# Derivation of the work by Ryan Keating Johns Hopkins University\n",
    "\n",
    "# ***** lib\n",
    "import numpy as np\n",
    "from numpy import linalg\n",
    "\n",
    "import cmath\n",
    "import math\n",
    "from math import cos as cos\n",
    "from math import sin as sin\n",
    "from math import atan2 as atan2\n",
    "from math import acos as acos\n",
    "from math import asin as asin\n",
    "from math import sqrt as sqrt\n",
    "from math import pi as pi\n",
    "\n",
    "global mat\n",
    "mat=np.matrix\n",
    "\n",
    "\n",
    "# ****** Coefficients ******\n",
    "\n",
    "\n",
    "global d1, a2, a3, a7, d4, d5, d6\n",
    "\n",
    "d1 =  0.089159\n",
    "a2 = -0.425\n",
    "a3 = -0.39225\n",
    "a7 = 0.075\n",
    "d4 =  0.10915\n",
    "d5 =  0.09465\n",
    "d6 =  0.0823\n",
    "\n",
    "global d, a, alph\n",
    "\n",
    "# ur5\n",
    "d = mat([0.089159, 0, 0, 0.10915, 0.09465, 0.0823]) \n",
    "a =mat([0 ,-0.425 ,-0.39225 ,0 ,0 ,0]) \n",
    "alph = mat([pi/2, 0, 0, pi/2, -pi/2, 0 ])  \n",
    "\n",
    "# ************************************************** FORWARD KINEMATICS\n",
    "\n",
    "def AH( n,th,c  ):\n",
    "\n",
    "  T_a = mat(np.identity(4), copy=False)\n",
    "  T_a[0,3] = a[0,n-1]\n",
    "  T_d = mat(np.identity(4), copy=False)\n",
    "  T_d[2,3] = d[0,n-1]\n",
    "\n",
    "  Rzt = mat([[cos(th[n-1,c]), -sin(th[n-1,c]), 0 ,0],\n",
    "\t         [sin(th[n-1,c]),  cos(th[n-1,c]), 0, 0],\n",
    "\t         [0,               0,              1, 0],\n",
    "\t         [0,               0,              0, 1]],copy=False)\n",
    "      \n",
    "\n",
    "  Rxa = mat([[1, 0,                 0,                  0],\n",
    "\t\t\t [0, cos(alph[0,n-1]), -sin(alph[0,n-1]),   0],\n",
    "\t\t\t [0, sin(alph[0,n-1]),  cos(alph[0,n-1]),   0],\n",
    "\t\t\t [0, 0,                 0,                  1]],copy=False)\n",
    "\n",
    "  A_i = T_d * Rzt * T_a * Rxa\n",
    "\t    \n",
    "\n",
    "  return A_i\n",
    "\n",
    "def HTrans(th,c ):  \n",
    "  A_1=AH( 1,th,c  )\n",
    "  A_2=AH( 2,th,c  )\n",
    "  A_3=AH( 3,th,c  )\n",
    "  A_4=AH( 4,th,c  )\n",
    "  A_5=AH( 5,th,c  )\n",
    "  A_6=AH( 6,th,c  )\n",
    "      \n",
    "  T_06=A_1*A_2*A_3*A_4*A_5*A_6\n",
    "\n",
    "  return T_06\n",
    "\n",
    "# ************************************************** INVERSE KINEMATICS \n",
    "\n",
    "def invKine(desired_pos):# T60\n",
    "  th = mat(np.zeros((6, 8)))\n",
    "  P_05 = (desired_pos * mat([0,0, -d6, 1]).T-mat([0,0,0,1 ]).T)\n",
    "  \n",
    "  # **** theta1 ****\n",
    "  \n",
    "  psi = atan2(P_05[2-1,0], P_05[1-1,0])\n",
    "  phi = acos(d4 /sqrt(P_05[2-1,0]*P_05[2-1,0] + P_05[1-1,0]*P_05[1-1,0]))\n",
    "  #The two solutions for theta1 correspond to the shoulder\n",
    "  #being either left or right\n",
    "  th[0, 0:4] = pi/2 + psi + phi\n",
    "  th[0, 4:8] = pi/2 + psi - phi\n",
    "  th = th.real\n",
    "  \n",
    "  # **** theta5 ****\n",
    "  \n",
    "  cl = [0, 4]# wrist up or down\n",
    "  for i in range(0,len(cl)):\n",
    "\t      c = cl[i]\n",
    "\t      T_10 = linalg.inv(AH(1,th,c))\n",
    "\t      T_16 = T_10 * desired_pos\n",
    "\t      th[4, c:c+2] = + acos((T_16[2,3]-d4)/d6);\n",
    "\t      th[4, c+2:c+4] = - acos((T_16[2,3]-d4)/d6);\n",
    "\n",
    "  th = th.real\n",
    "  \n",
    "  # **** theta6 ****\n",
    "  # theta6 is not well-defined when sin(theta5) = 0 or when T16(1,3), T16(2,3) = 0.\n",
    "\n",
    "  cl = [0, 2, 4, 6]\n",
    "  for i in range(0,len(cl)):\n",
    "\t      c = cl[i]\n",
    "\t      T_10 = linalg.inv(AH(1,th,c))\n",
    "\t      T_16 = linalg.inv( T_10 * desired_pos )\n",
    "\t      th[5, c:c+2] = atan2((-T_16[1,2]/sin(th[4, c])),(T_16[0,2]/sin(th[4, c])))\n",
    "\t\t  \n",
    "  th = th.real\n",
    "\n",
    "  # **** theta3 ****\n",
    "  cl = [0, 2, 4, 6]\n",
    "  for i in range(0,len(cl)):\n",
    "\t      c = cl[i]\n",
    "\t      T_10 = linalg.inv(AH(1,th,c))\n",
    "\t      T_65 = AH( 6,th,c)\n",
    "\t      T_54 = AH( 5,th,c)\n",
    "\t      T_14 = ( T_10 * desired_pos) * linalg.inv(T_54 * T_65)\n",
    "\t      P_13 = T_14 * mat([0, -d4, 0, 1]).T - mat([0,0,0,1]).T\n",
    "\t      t3 = cmath.acos((linalg.norm(P_13)**2 - a2**2 - a3**2 )/(2 * a2 * a3)) # norm ?\n",
    "\t      th[2, c] = t3.real\n",
    "\t      th[2, c+1] = -t3.real\n",
    "\n",
    "  # **** theta2 and theta 4 ****\n",
    "\n",
    "  cl = [0, 1, 2, 3, 4, 5, 6, 7]\n",
    "  for i in range(0,len(cl)):\n",
    "\t      c = cl[i]\n",
    "\t      T_10 = linalg.inv(AH( 1,th,c ))\n",
    "\t      T_65 = linalg.inv(AH( 6,th,c))\n",
    "\t      T_54 = linalg.inv(AH( 5,th,c))\n",
    "\t      T_14 = (T_10 * desired_pos) * T_65 * T_54\n",
    "\t      P_13 = T_14 * mat([0, -d4, 0, 1]).T - mat([0,0,0,1]).T\n",
    "\t      \n",
    "\t      # theta 2\n",
    "\t      th[1, c] = -atan2(P_13[1], -P_13[0]) + asin(a3* sin(th[2,c])/linalg.norm(P_13))\n",
    "\t      # theta 4\n",
    "\t      T_32 = linalg.inv(AH( 3,th,c))\n",
    "\t      T_21 = linalg.inv(AH( 2,th,c))\n",
    "\t      T_34 = T_32 * T_21 * T_14\n",
    "\t      th[3, c] = atan2(T_34[1,0], T_34[0,0])\n",
    "  th = th.real\n",
    "\n",
    "  return th\n"
   ]
  },
  {
   "cell_type": "code",
   "execution_count": null,
   "metadata": {},
   "outputs": [],
   "source": [
    "\n",
    "# Enter Desired coordinates \n",
    "x = 0.3\n",
    "y = 0.2\n",
    "z = 0.0\n",
    "\n",
    "# rotate end effector to point down \n",
    "rotz = mat(([-1,0,0],[0,-1,0],[0,0,1]))\n",
    "rotx = mat(([1,0,0], [0,-1,0], [0,0,-1]))\n",
    "rotxz = rotx@rotz\n",
    "\n",
    "\n",
    "disp_vect = np.array([[x,y,z]])\n",
    "temp = np.array([[0,0,0,1]])\n",
    "\n",
    "matrix = np.concatenate((rotxz, disp_vect.T), axis=1)\n",
    "homo_tran = np.concatenate ((matrix,temp ), axis = 0) # homongenous Tran matrix\n",
    "\n",
    "# find joint angles. A total of 8 possible solutions \n",
    "angles = invKine(homo_tran) \n",
    "\n",
    "# modify orientations to match each joint coordinate frames in unity \n",
    "m = np.array([-1*angles[0,:] + 4.71239, angles[1,:] + 1.5708 ,angles[2,:], angles[3,:] + 1.5708, -1*angles[4,:], angles[5,:] ])\n",
    "angles = np.asmatrix(m)\n",
    "\n",
    "# Due to multiple solution, joint 2 is given joint rotation limit to avoid unwanted solutions \n",
    "\n",
    "joint2 = np.rad2deg(angles[1,:])\n",
    "size = np.size(joint2)\n",
    "index = []\n",
    "\n",
    "print(np.rad2deg(angles[:,0]))\n",
    "print('')\n",
    "print(np.rad2deg(angles[:,1]))\n",
    "print('')\n",
    "print(np.rad2deg(angles[:,2]))\n",
    "print('')\n",
    "print(np.rad2deg(angles[:,3]))\n",
    "print('')\n",
    "print(np.rad2deg(angles[:,4]))\n",
    "print('')\n",
    "print(np.rad2deg(angles[:,5]))\n",
    "print('')\n",
    "print(np.rad2deg(angles[:,6]))\n",
    "\n",
    "\n",
    "for i in range(size):\n",
    "    # range of joint 2 \n",
    "    # -80 - 80\n",
    "    if joint2[0,i]<= 80 and joint2[0,i]>= -80:\n",
    "        \n",
    "        # Prints all posible solutions that fall within joint 2 constraint\n",
    "        print( \" Possible Solution\")\n",
    "        print(np.rad2deg(angles[:,i]))\n",
    "        print('')\n",
    "        element = i\n",
    "        index.append(element)\n",
    "\n",
    "store_index = np.array(index)\n",
    "min_value = np.abs(joint2[0,store_index[0]])\n",
    "\n",
    "# filter possible solutions to a single solution that is the most ideal\n",
    "for index in store_index:\n",
    "    if np.abs(joint2[0,index])<=min_value:\n",
    "        min_value = np.abs(joint2[0,index])\n",
    "        element = index\n",
    "print('')\n",
    "print(' ***** IDEAL SOLUTION ***** ')\n",
    "print(np.rad2deg(angles[:,element]))\n",
    "print ('')"
   ]
  },
  {
   "cell_type": "code",
   "execution_count": null,
   "metadata": {},
   "outputs": [],
   "source": [
    "def ur5_site() -> np.ndarray:  # pragma: no cover\n",
    "    \"\"\"Get UR10 MDH model.\"\"\"\n",
    "    return np.array(\n",
    "        [\n",
    "            [0, 0, 0, 162.5],\n",
    "            [np.pi / 2, 0, np.pi, 0],\n",
    "            [0, 425, 0, 0],\n",
    "            [0, 392.2, 0, 133.3],\n",
    "            [-np.pi / 2, 0, 0, 99.7],\n",
    "            [np.pi / 2, 0, np.pi, 99.6],\n",
    "        ]\n",
    "    )"
   ]
  },
  {
   "cell_type": "code",
   "execution_count": null,
   "metadata": {},
   "outputs": [],
   "source": []
  },
  {
   "cell_type": "code",
   "execution_count": null,
   "metadata": {},
   "outputs": [],
   "source": []
  },
  {
   "cell_type": "code",
   "execution_count": null,
   "metadata": {},
   "outputs": [],
   "source": []
  }
 ],
 "metadata": {
  "kernelspec": {
   "display_name": "Python 3",
   "language": "python",
   "name": "python3"
  },
  "language_info": {
   "codemirror_mode": {
    "name": "ipython",
    "version": 3
   },
   "file_extension": ".py",
   "mimetype": "text/x-python",
   "name": "python",
   "nbconvert_exporter": "python",
   "pygments_lexer": "ipython3",
   "version": "3.7.3"
  }
 },
 "nbformat": 4,
 "nbformat_minor": 1
}
