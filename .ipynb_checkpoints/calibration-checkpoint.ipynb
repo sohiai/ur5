{
 "cells": [
  {
   "cell_type": "markdown",
   "metadata": {},
   "source": [
    "# Robot Calibration"
   ]
  },
  {
   "cell_type": "markdown",
   "metadata": {},
   "source": [
    "## Nominal Robot\n",
    "- A nominal robot model:\n",
    "    - Represents what the robot manufacturer intended as a kinematic model\n",
    "    - Is mathematically ideal"
   ]
  },
  {
   "cell_type": "code",
   "execution_count": 1,
   "metadata": {},
   "outputs": [],
   "source": [
    "from pybotics.robot import Robot\n",
    "from pybotics.predefined_models import ur10\n",
    "\n",
    "nominal_robot = Robot.from_parameters(ur10())"
   ]
  },
  {
   "cell_type": "code",
   "execution_count": 4,
   "metadata": {},
   "outputs": [
    {
     "data": {
      "text/html": [
       "<div>\n",
       "<style scoped>\n",
       "    .dataframe tbody tr th:only-of-type {\n",
       "        vertical-align: middle;\n",
       "    }\n",
       "\n",
       "    .dataframe tbody tr th {\n",
       "        vertical-align: top;\n",
       "    }\n",
       "\n",
       "    .dataframe thead th {\n",
       "        text-align: right;\n",
       "    }\n",
       "</style>\n",
       "<table border=\"1\" class=\"dataframe\">\n",
       "  <thead>\n",
       "    <tr style=\"text-align: right;\">\n",
       "      <th></th>\n",
       "      <th>alpha</th>\n",
       "      <th>a</th>\n",
       "      <th>theta</th>\n",
       "      <th>d</th>\n",
       "    </tr>\n",
       "  </thead>\n",
       "  <tbody>\n",
       "    <tr>\n",
       "      <th>0</th>\n",
       "      <td>0.000000</td>\n",
       "      <td>0.0</td>\n",
       "      <td>0.000000</td>\n",
       "      <td>118.0</td>\n",
       "    </tr>\n",
       "    <tr>\n",
       "      <th>1</th>\n",
       "      <td>1.570796</td>\n",
       "      <td>0.0</td>\n",
       "      <td>3.141593</td>\n",
       "      <td>0.0</td>\n",
       "    </tr>\n",
       "    <tr>\n",
       "      <th>2</th>\n",
       "      <td>0.000000</td>\n",
       "      <td>612.7</td>\n",
       "      <td>0.000000</td>\n",
       "      <td>0.0</td>\n",
       "    </tr>\n",
       "    <tr>\n",
       "      <th>3</th>\n",
       "      <td>0.000000</td>\n",
       "      <td>571.6</td>\n",
       "      <td>0.000000</td>\n",
       "      <td>163.9</td>\n",
       "    </tr>\n",
       "    <tr>\n",
       "      <th>4</th>\n",
       "      <td>-1.570796</td>\n",
       "      <td>0.0</td>\n",
       "      <td>0.000000</td>\n",
       "      <td>115.7</td>\n",
       "    </tr>\n",
       "    <tr>\n",
       "      <th>5</th>\n",
       "      <td>1.570796</td>\n",
       "      <td>0.0</td>\n",
       "      <td>3.141593</td>\n",
       "      <td>92.2</td>\n",
       "    </tr>\n",
       "  </tbody>\n",
       "</table>\n",
       "</div>"
      ],
      "text/plain": [
       "      alpha      a     theta      d\n",
       "0  0.000000    0.0  0.000000  118.0\n",
       "1  1.570796    0.0  3.141593    0.0\n",
       "2  0.000000  612.7  0.000000    0.0\n",
       "3  0.000000  571.6  0.000000  163.9\n",
       "4 -1.570796    0.0  0.000000  115.7\n",
       "5  1.570796    0.0  3.141593   92.2"
      ]
     },
     "metadata": {},
     "output_type": "display_data"
    }
   ],
   "source": [
    "import pandas as pd\n",
    "\n",
    "def display_robot_kinematics(robot: Robot):\n",
    "    df = pd.DataFrame(robot.kinematic_chain.matrix)\n",
    "    df.columns = [\"alpha\", \"a\", \"theta\", \"d\"]\n",
    "    display(df)\n",
    "\n",
    "display_robot_kinematics(nominal_robot)"
   ]
  },
  {
   "cell_type": "markdown",
   "metadata": {},
   "source": [
    "## *Real* Robots\n",
    "- *Real* robots do not conform perfectly to the nominal parameters\n",
    "- Small errors in the robot model can generate large errors in Cartesian position\n",
    "- Sources of errors include, but are not limited to:\n",
    "    - Kinematic errors\n",
    "        - Mechanical tolerances\n",
    "        - Angle offsets\n",
    "    - Non-kinematic errors\n",
    "        - Joint stiffness\n",
    "        - Gravity\n",
    "        - Temperature\n",
    "        - Friction"
   ]
  },
  {
   "cell_type": "code",
   "execution_count": 5,
   "metadata": {},
   "outputs": [
    {
     "data": {
      "text/html": [
       "<div>\n",
       "<style scoped>\n",
       "    .dataframe tbody tr th:only-of-type {\n",
       "        vertical-align: middle;\n",
       "    }\n",
       "\n",
       "    .dataframe tbody tr th {\n",
       "        vertical-align: top;\n",
       "    }\n",
       "\n",
       "    .dataframe thead th {\n",
       "        text-align: right;\n",
       "    }\n",
       "</style>\n",
       "<table border=\"1\" class=\"dataframe\">\n",
       "  <thead>\n",
       "    <tr style=\"text-align: right;\">\n",
       "      <th></th>\n",
       "      <th>alpha</th>\n",
       "      <th>a</th>\n",
       "      <th>theta</th>\n",
       "      <th>d</th>\n",
       "    </tr>\n",
       "  </thead>\n",
       "  <tbody>\n",
       "    <tr>\n",
       "      <th>0</th>\n",
       "      <td>0.000000</td>\n",
       "      <td>0.0</td>\n",
       "      <td>-0.001509</td>\n",
       "      <td>118.0</td>\n",
       "    </tr>\n",
       "    <tr>\n",
       "      <th>1</th>\n",
       "      <td>1.570796</td>\n",
       "      <td>0.0</td>\n",
       "      <td>3.142406</td>\n",
       "      <td>0.0</td>\n",
       "    </tr>\n",
       "    <tr>\n",
       "      <th>2</th>\n",
       "      <td>0.000000</td>\n",
       "      <td>612.7</td>\n",
       "      <td>-0.000711</td>\n",
       "      <td>0.0</td>\n",
       "    </tr>\n",
       "    <tr>\n",
       "      <th>3</th>\n",
       "      <td>0.000000</td>\n",
       "      <td>571.6</td>\n",
       "      <td>0.000512</td>\n",
       "      <td>163.9</td>\n",
       "    </tr>\n",
       "    <tr>\n",
       "      <th>4</th>\n",
       "      <td>-1.570796</td>\n",
       "      <td>0.0</td>\n",
       "      <td>0.000921</td>\n",
       "      <td>115.7</td>\n",
       "    </tr>\n",
       "    <tr>\n",
       "      <th>5</th>\n",
       "      <td>1.570796</td>\n",
       "      <td>0.0</td>\n",
       "      <td>3.142297</td>\n",
       "      <td>92.2</td>\n",
       "    </tr>\n",
       "  </tbody>\n",
       "</table>\n",
       "</div>"
      ],
      "text/plain": [
       "      alpha      a     theta      d\n",
       "0  0.000000    0.0 -0.001509  118.0\n",
       "1  1.570796    0.0  3.142406    0.0\n",
       "2  0.000000  612.7 -0.000711    0.0\n",
       "3  0.000000  571.6  0.000512  163.9\n",
       "4 -1.570796    0.0  0.000921  115.7\n",
       "5  1.570796    0.0  3.142297   92.2"
      ]
     },
     "metadata": {},
     "output_type": "display_data"
    }
   ],
   "source": [
    "import numpy as np\n",
    "from copy import deepcopy\n",
    "\n",
    "real_robot = deepcopy(nominal_robot)\n",
    "\n",
    "# let's pretend our real robot has small joint offsets\n",
    "# in real life, this would be a joint mastering issue (level-1 calibration)\n",
    "# https://en.wikipedia.org/wiki/Robot_calibration\n",
    "for link in real_robot.kinematic_chain.links:\n",
    "    link.theta += np.random.uniform(\n",
    "        low=np.deg2rad(-0.1),\n",
    "        high=np.deg2rad(0.1)\n",
    "    )\n",
    "\n",
    "display_robot_kinematics(real_robot)"
   ]
  },
  {
   "cell_type": "markdown",
   "metadata": {},
   "source": [
    "## Get *Real* (aka Measured) Poses\n",
    "- In real life, these poses would be measured using metrology equipment (e.g., laser tracker, CMM)"
   ]
  },
  {
   "cell_type": "code",
   "execution_count": 6,
   "metadata": {},
   "outputs": [],
   "source": [
    "joints = []\n",
    "positions = []\n",
    "for i in range(1000):\n",
    "    q = real_robot.random_joints()\n",
    "    pose = real_robot.fk(q)\n",
    "    \n",
    "    joints.append(q)\n",
    "    positions.append(pose[:-1,-1])"
   ]
  },
  {
   "cell_type": "code",
   "execution_count": 7,
   "metadata": {
    "scrolled": true
   },
   "outputs": [
    {
     "data": {
      "text/html": [
       "<div>\n",
       "<style scoped>\n",
       "    .dataframe tbody tr th:only-of-type {\n",
       "        vertical-align: middle;\n",
       "    }\n",
       "\n",
       "    .dataframe tbody tr th {\n",
       "        vertical-align: top;\n",
       "    }\n",
       "\n",
       "    .dataframe thead th {\n",
       "        text-align: right;\n",
       "    }\n",
       "</style>\n",
       "<table border=\"1\" class=\"dataframe\">\n",
       "  <thead>\n",
       "    <tr style=\"text-align: right;\">\n",
       "      <th></th>\n",
       "      <th>0</th>\n",
       "      <th>1</th>\n",
       "      <th>2</th>\n",
       "      <th>3</th>\n",
       "      <th>4</th>\n",
       "      <th>5</th>\n",
       "    </tr>\n",
       "  </thead>\n",
       "  <tbody>\n",
       "    <tr>\n",
       "      <th>count</th>\n",
       "      <td>1000.000000</td>\n",
       "      <td>1000.000000</td>\n",
       "      <td>1000.000000</td>\n",
       "      <td>1000.000000</td>\n",
       "      <td>1000.000000</td>\n",
       "      <td>1000.000000</td>\n",
       "    </tr>\n",
       "    <tr>\n",
       "      <th>mean</th>\n",
       "      <td>0.047702</td>\n",
       "      <td>0.051001</td>\n",
       "      <td>-0.079480</td>\n",
       "      <td>0.030139</td>\n",
       "      <td>-0.011763</td>\n",
       "      <td>0.020381</td>\n",
       "    </tr>\n",
       "    <tr>\n",
       "      <th>std</th>\n",
       "      <td>1.799804</td>\n",
       "      <td>1.808733</td>\n",
       "      <td>1.810610</td>\n",
       "      <td>1.790227</td>\n",
       "      <td>1.871819</td>\n",
       "      <td>1.824008</td>\n",
       "    </tr>\n",
       "    <tr>\n",
       "      <th>min</th>\n",
       "      <td>-3.105361</td>\n",
       "      <td>-3.138609</td>\n",
       "      <td>-3.130845</td>\n",
       "      <td>-3.139920</td>\n",
       "      <td>-3.139458</td>\n",
       "      <td>-3.123646</td>\n",
       "    </tr>\n",
       "    <tr>\n",
       "      <th>25%</th>\n",
       "      <td>-1.507057</td>\n",
       "      <td>-1.508333</td>\n",
       "      <td>-1.699087</td>\n",
       "      <td>-1.530983</td>\n",
       "      <td>-1.638796</td>\n",
       "      <td>-1.486191</td>\n",
       "    </tr>\n",
       "    <tr>\n",
       "      <th>50%</th>\n",
       "      <td>0.093303</td>\n",
       "      <td>0.067023</td>\n",
       "      <td>-0.058198</td>\n",
       "      <td>0.062386</td>\n",
       "      <td>-0.053413</td>\n",
       "      <td>-0.006788</td>\n",
       "    </tr>\n",
       "    <tr>\n",
       "      <th>75%</th>\n",
       "      <td>1.644339</td>\n",
       "      <td>1.583571</td>\n",
       "      <td>1.449470</td>\n",
       "      <td>1.555099</td>\n",
       "      <td>1.685396</td>\n",
       "      <td>1.637713</td>\n",
       "    </tr>\n",
       "    <tr>\n",
       "      <th>max</th>\n",
       "      <td>3.131182</td>\n",
       "      <td>3.137136</td>\n",
       "      <td>3.137420</td>\n",
       "      <td>3.138143</td>\n",
       "      <td>3.130878</td>\n",
       "      <td>3.141305</td>\n",
       "    </tr>\n",
       "  </tbody>\n",
       "</table>\n",
       "</div>"
      ],
      "text/plain": [
       "                 0            1            2            3            4  \\\n",
       "count  1000.000000  1000.000000  1000.000000  1000.000000  1000.000000   \n",
       "mean      0.047702     0.051001    -0.079480     0.030139    -0.011763   \n",
       "std       1.799804     1.808733     1.810610     1.790227     1.871819   \n",
       "min      -3.105361    -3.138609    -3.130845    -3.139920    -3.139458   \n",
       "25%      -1.507057    -1.508333    -1.699087    -1.530983    -1.638796   \n",
       "50%       0.093303     0.067023    -0.058198     0.062386    -0.053413   \n",
       "75%       1.644339     1.583571     1.449470     1.555099     1.685396   \n",
       "max       3.131182     3.137136     3.137420     3.138143     3.130878   \n",
       "\n",
       "                 5  \n",
       "count  1000.000000  \n",
       "mean      0.020381  \n",
       "std       1.824008  \n",
       "min      -3.123646  \n",
       "25%      -1.486191  \n",
       "50%      -0.006788  \n",
       "75%       1.637713  \n",
       "max       3.141305  "
      ]
     },
     "execution_count": 7,
     "metadata": {},
     "output_type": "execute_result"
    }
   ],
   "source": [
    "pd.DataFrame(joints).describe()"
   ]
  },
  {
   "cell_type": "code",
   "execution_count": 8,
   "metadata": {
    "scrolled": true
   },
   "outputs": [
    {
     "data": {
      "text/html": [
       "<div>\n",
       "<style scoped>\n",
       "    .dataframe tbody tr th:only-of-type {\n",
       "        vertical-align: middle;\n",
       "    }\n",
       "\n",
       "    .dataframe tbody tr th {\n",
       "        vertical-align: top;\n",
       "    }\n",
       "\n",
       "    .dataframe thead th {\n",
       "        text-align: right;\n",
       "    }\n",
       "</style>\n",
       "<table border=\"1\" class=\"dataframe\">\n",
       "  <thead>\n",
       "    <tr style=\"text-align: right;\">\n",
       "      <th></th>\n",
       "      <th>x</th>\n",
       "      <th>y</th>\n",
       "      <th>z</th>\n",
       "    </tr>\n",
       "  </thead>\n",
       "  <tbody>\n",
       "    <tr>\n",
       "      <th>count</th>\n",
       "      <td>1000.000000</td>\n",
       "      <td>1000.000000</td>\n",
       "      <td>1000.000000</td>\n",
       "    </tr>\n",
       "    <tr>\n",
       "      <th>mean</th>\n",
       "      <td>2.274330</td>\n",
       "      <td>5.645392</td>\n",
       "      <td>87.663492</td>\n",
       "    </tr>\n",
       "    <tr>\n",
       "      <th>std</th>\n",
       "      <td>456.735568</td>\n",
       "      <td>436.861813</td>\n",
       "      <td>588.017371</td>\n",
       "    </tr>\n",
       "    <tr>\n",
       "      <th>min</th>\n",
       "      <td>-1249.973263</td>\n",
       "      <td>-1253.078191</td>\n",
       "      <td>-1169.044358</td>\n",
       "    </tr>\n",
       "    <tr>\n",
       "      <th>25%</th>\n",
       "      <td>-247.695339</td>\n",
       "      <td>-233.231942</td>\n",
       "      <td>-339.937742</td>\n",
       "    </tr>\n",
       "    <tr>\n",
       "      <th>50%</th>\n",
       "      <td>1.531032</td>\n",
       "      <td>3.245680</td>\n",
       "      <td>72.722988</td>\n",
       "    </tr>\n",
       "    <tr>\n",
       "      <th>75%</th>\n",
       "      <td>252.070739</td>\n",
       "      <td>253.222272</td>\n",
       "      <td>509.946999</td>\n",
       "    </tr>\n",
       "    <tr>\n",
       "      <th>max</th>\n",
       "      <td>1276.159195</td>\n",
       "      <td>1252.807061</td>\n",
       "      <td>1395.080946</td>\n",
       "    </tr>\n",
       "  </tbody>\n",
       "</table>\n",
       "</div>"
      ],
      "text/plain": [
       "                 x            y            z\n",
       "count  1000.000000  1000.000000  1000.000000\n",
       "mean      2.274330     5.645392    87.663492\n",
       "std     456.735568   436.861813   588.017371\n",
       "min   -1249.973263 -1253.078191 -1169.044358\n",
       "25%    -247.695339  -233.231942  -339.937742\n",
       "50%       1.531032     3.245680    72.722988\n",
       "75%     252.070739   253.222272   509.946999\n",
       "max    1276.159195  1252.807061  1395.080946"
      ]
     },
     "execution_count": 8,
     "metadata": {},
     "output_type": "execute_result"
    }
   ],
   "source": [
    "pd.DataFrame(positions, columns=['x','y','z']).describe()"
   ]
  },
  {
   "cell_type": "markdown",
   "metadata": {},
   "source": [
    "## Split Calibration and Validation Measures\n",
    "- A portion of the measured configurations and positions should be set aside for validation after calibration (i.e., optimization)\n",
    "    - This is to prevent/check the optimized model for overfitting"
   ]
  },
  {
   "cell_type": "code",
   "execution_count": 10,
   "metadata": {},
   "outputs": [],
   "source": [
    "from sklearn.model_selection import train_test_split\n",
    "split = train_test_split(joints, positions, test_size=0.3)\n",
    "\n",
    "train_joints = split[0]\n",
    "test_joints = split[1]\n",
    "\n",
    "train_positions = split[2]\n",
    "test_positions = split[3]"
   ]
  },
  {
   "cell_type": "markdown",
   "metadata": {},
   "source": [
    "## Get Nominal Position Errors\n",
    "- These nominal model is our starting point for calibration\n",
    "- The errors are in millimetres "
   ]
  },
  {
   "cell_type": "code",
   "execution_count": 11,
   "metadata": {},
   "outputs": [
    {
     "data": {
      "text/plain": [
       "count    300.000000\n",
       "mean       0.961342\n",
       "std        0.469048\n",
       "min        0.129001\n",
       "25%        0.625228\n",
       "50%        0.843774\n",
       "75%        1.303911\n",
       "max        2.143065\n",
       "dtype: float64"
      ]
     },
     "metadata": {},
     "output_type": "display_data"
    }
   ],
   "source": [
    "from pybotics.optimization import compute_absolute_errors\n",
    "\n",
    "nominal_errors = compute_absolute_errors(\n",
    "    qs=test_joints,\n",
    "    positions=test_positions,\n",
    "    robot=nominal_robot\n",
    ")\n",
    "\n",
    "display(pd.Series(nominal_errors).describe())"
   ]
  },
  {
   "cell_type": "markdown",
   "metadata": {},
   "source": [
    "## Calibration"
   ]
  },
  {
   "cell_type": "code",
   "execution_count": 12,
   "metadata": {},
   "outputs": [
    {
     "data": {
      "text/plain": [
       "array([[False, False,  True, False],\n",
       "       [False, False,  True, False],\n",
       "       [False, False,  True, False],\n",
       "       [False, False,  True, False],\n",
       "       [False, False,  True, False],\n",
       "       [False, False,  True, False]])"
      ]
     },
     "metadata": {},
     "output_type": "display_data"
    }
   ],
   "source": [
    "from pybotics.optimization import OptimizationHandler\n",
    "\n",
    "# init calibration handler\n",
    "handler = OptimizationHandler(nominal_robot)\n",
    "\n",
    "# set handler to solve for theta parameters\n",
    "kc_mask_matrix = np.zeros_like(nominal_robot.kinematic_chain.matrix, dtype=bool)\n",
    "kc_mask_matrix[:,2] = True\n",
    "display(kc_mask_matrix)\n",
    "\n",
    "handler.kinematic_chain_mask = kc_mask_matrix.ravel()"
   ]
  },
  {
   "cell_type": "code",
   "execution_count": 10,
   "metadata": {
    "scrolled": true
   },
   "outputs": [
    {
     "name": "stdout",
     "output_type": "stream",
     "text": [
      "   Iteration     Total nfev        Cost      Cost reduction    Step norm     Optimality   \n",
      "       0              1         6.5073e+02                                    4.68e+05    \n",
      "       1              7         5.3649e+01      5.97e+02       4.34e-03       1.35e+05    \n",
      "       2              9         2.1031e-01      5.34e+01       2.17e-03       3.23e+03    \n",
      "       3             12         9.2586e-03      2.01e-01       2.71e-04       1.36e+03    \n",
      "       4             15         2.1788e-04      9.04e-03       3.39e-05       2.15e+02    \n",
      "       5             18         4.5223e-05      1.73e-04       4.24e-06       1.25e+02    \n",
      "       6             20         1.2495e-06      4.40e-05       2.12e-06       3.44e+00    \n",
      "       7             22         9.3713e-07      3.12e-07       1.06e-06       7.69e+00    \n",
      "       8             24         4.6008e-07      4.77e-07       2.65e-07       7.89e+00    \n",
      "       9             25         8.7686e-08      3.72e-07       2.65e-07       5.52e+00    \n",
      "      10             28         1.8195e-08      6.95e-08       3.31e-08       2.70e+00    \n",
      "`xtol` termination condition is satisfied.\n",
      "Function evaluations 28, initial cost 6.5073e+02, final cost 1.8195e-08, first-order optimality 2.70e+00.\n"
     ]
    }
   ],
   "source": [
    "from scipy.optimize import least_squares\n",
    "from pybotics.optimization import optimize_accuracy\n",
    "\n",
    "# run optimization\n",
    "result = least_squares(\n",
    "    fun=optimize_accuracy,\n",
    "    x0=handler.generate_optimization_vector(),\n",
    "    args=(handler, train_joints, train_positions),\n",
    "    verbose=2\n",
    ")  # type: scipy.optimize.OptimizeResult"
   ]
  },
  {
   "cell_type": "markdown",
   "metadata": {},
   "source": [
    "## Results\n",
    "- A calibrated robot model is never perfect in real life\n",
    "    - The goal is often to reduce the max error under a desired threshold"
   ]
  },
  {
   "cell_type": "code",
   "execution_count": 11,
   "metadata": {
    "scrolled": true
   },
   "outputs": [
    {
     "data": {
      "text/plain": [
       "count    300.000000\n",
       "mean       0.000007\n",
       "std        0.000003\n",
       "min        0.000001\n",
       "25%        0.000004\n",
       "50%        0.000007\n",
       "75%        0.000009\n",
       "max        0.000012\n",
       "dtype: float64"
      ]
     },
     "metadata": {},
     "output_type": "display_data"
    }
   ],
   "source": [
    "calibrated_robot = handler.robot\n",
    "calibrated_errors = compute_absolute_errors(\n",
    "    qs=test_joints,\n",
    "    positions=test_positions,\n",
    "    robot=calibrated_robot\n",
    ")\n",
    "\n",
    "display(pd.Series(calibrated_errors).describe())"
   ]
  },
  {
   "cell_type": "code",
   "execution_count": 12,
   "metadata": {
    "scrolled": true
   },
   "outputs": [
    {
     "data": {
      "image/png": "[encoded data removed]",
      "text/plain": [
       "<Figure size 432x288 with 1 Axes>"
      ]
     },
     "metadata": {
      "needs_background": "light"
     },
     "output_type": "display_data"
    }
   ],
   "source": [
    "import matplotlib.pyplot as plt\n",
    "\n",
    "%matplotlib inline\n",
    "\n",
    "plt.xscale(\"log\")\n",
    "plt.hist(nominal_errors, color=\"C0\", label=\"Nominal\")\n",
    "plt.hist(calibrated_errors, color=\"C1\", label=\"Calibrated\")\n",
    "\n",
    "plt.legend()\n",
    "plt.xlabel(\"Absolute Error [mm]\")\n",
    "plt.ylabel(\"Frequency\")"
   ]
  }
 ],
 "metadata": {
  "kernelspec": {
   "display_name": "Python 3",
   "language": "python",
   "name": "python3"
  },
  "language_info": {
   "codemirror_mode": {
    "name": "ipython",
    "version": 3
   },
   "file_extension": ".py",
   "mimetype": "text/x-python",
   "name": "python",
   "nbconvert_exporter": "python",
   "pygments_lexer": "ipython3",
   "version": "3.7.3"
  }
 },
 "nbformat": 4,
 "nbformat_minor": 1
}
